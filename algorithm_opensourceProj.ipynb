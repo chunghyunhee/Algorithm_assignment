{
  "nbformat": 4,
  "nbformat_minor": 0,
  "metadata": {
    "colab": {
      "name": "algorithm_opensourceProj.ipynb",
      "provenance": []
    },
    "kernelspec": {
      "name": "python3",
      "display_name": "Python 3"
    }
  },
  "cells": [
    {
      "cell_type": "markdown",
      "metadata": {
        "id": "GG7VdFO0qZ5r",
        "colab_type": "text"
      },
      "source": [
        "## task\n",
        "- 1. run the given code for three differeng CNN models\n",
        "- 2. upload the codes you've performed and post your results on the Github page.\n",
        "- 3. Upload success/failure images of your results on the github page"
      ]
    },
    {
      "cell_type": "markdown",
      "metadata": {
        "id": "Ek9W7T2JmSTa",
        "colab_type": "text"
      },
      "source": [
        "## 1. import library"
      ]
    },
    {
      "cell_type": "code",
      "metadata": {
        "id": "umXozTIuQKe2",
        "colab_type": "code",
        "colab": {}
      },
      "source": [
        "import tensorflow as tf\n",
        "from tensorflow import keras\n",
        "from tensorflow.keras import layers, models\n",
        "import numpy as np \n",
        "import matplotlib.pyplot as plt"
      ],
      "execution_count": 0,
      "outputs": []
    },
    {
      "cell_type": "markdown",
      "metadata": {
        "id": "8hGgl6xLmb0f",
        "colab_type": "text"
      },
      "source": [
        "## 2. Load MNIST data"
      ]
    },
    {
      "cell_type": "code",
      "metadata": {
        "id": "QEJA8IZZmXq2",
        "colab_type": "code",
        "colab": {
          "base_uri": "https://localhost:8080/",
          "height": 75
        },
        "outputId": "b9ec6006-3ede-4f47-caa2-f3791366d50d"
      },
      "source": [
        "mnist = keras.datasets.mnist\n",
        "(train_images, train_labels), (test_images, test_labels) = mnist.load_data()"
      ],
      "execution_count": 2,
      "outputs": [
        {
          "output_type": "stream",
          "text": [
            "Downloading data from https://storage.googleapis.com/tensorflow/tf-keras-datasets/mnist.npz\n",
            "11493376/11490434 [==============================] - 0s 0us/step\n"
          ],
          "name": "stdout"
        }
      ]
    },
    {
      "cell_type": "markdown",
      "metadata": {
        "id": "RRHU77Mjmv9G",
        "colab_type": "text"
      },
      "source": [
        "## 3. Split into train/test datasets"
      ]
    },
    {
      "cell_type": "code",
      "metadata": {
        "id": "6Gq1UaYSmpZN",
        "colab_type": "code",
        "colab": {}
      },
      "source": [
        "train_images = tf.reshape(train_images, [-1, 28, 28, 1])\n",
        "test_images = tf.reshape(test_images, [-1, 28, 28, 1])"
      ],
      "execution_count": 0,
      "outputs": []
    },
    {
      "cell_type": "markdown",
      "metadata": {
        "id": "eOAXo7VGm_Rq",
        "colab_type": "text"
      },
      "source": [
        "## 4. Model (three models whose # layers are 3,5,7)"
      ]
    },
    {
      "cell_type": "code",
      "metadata": {
        "id": "lymsNrolm4yF",
        "colab_type": "code",
        "colab": {}
      },
      "source": [
        "def select_model(model_number):\n",
        "    if model_number == 1:\n",
        "        model = keras.models.Sequential([\n",
        "                    keras.layers.Conv2D(32, (3,3), activation = 'relu', input_shape = (28, 28,1)),  # layer 1 \n",
        "                    keras.layers.MaxPool2D((2,2)),                                                  # layer 2 \n",
        "                    keras.layers.Flatten(),\n",
        "                    keras.layers.Dense(10, activation = 'softmax')])                                # layer 3\n",
        "\n",
        "    if model_number == 2:\n",
        "        model = keras.models.Sequential([\n",
        "                    keras.layers.Conv2D(32, (3,3), activation = 'relu', input_shape=(28,28,1)),     # layer 1 \n",
        "                    keras.layers.MaxPool2D((2,2)),                                                  # layer 2\n",
        "                    keras.layers.Conv2D(64, (3,3), activation = 'relu'),                            # layer 3 \n",
        "                    keras.layers.MaxPool2D((2,2)),                                                  # layer 4\n",
        "                    keras.layers.Flatten(),\n",
        "                    keras.layers.Dense(10, activation = 'softmax')])                                # layer 5\n",
        "                    \n",
        "    if model_number == 3: \n",
        "        model = keras.models.Sequential([\n",
        "                    keras.layers.Conv2D(32, (3,3), activation = 'relu', input_shape = (28, 28,1)),  # layer 1\n",
        "                    keras.layers.MaxPool2D((2,2)),                                                  # layer 2\n",
        "                    keras.layers.Conv2D(64, (3,3), activation = 'relu'),                            # layer 3\n",
        "                    keras.layers.Conv2D(64, (3,3), activation = 'relu'),                            # layer 4\n",
        "                    keras.layers.MaxPool2D((2,2)),                                                  # layer 5\n",
        "                    keras.layers.Conv2D(128, (3,3), activation = 'relu'),                           # layer 6\n",
        "                    keras.layers.Flatten(),\n",
        "                    keras.layers.Dense(10, activation = 'softmax')])                                # layer 7\n",
        "    \n",
        "    return model"
      ],
      "execution_count": 0,
      "outputs": []
    },
    {
      "cell_type": "markdown",
      "metadata": {
        "id": "TP5t-TbKq790",
        "colab_type": "text"
      },
      "source": [
        "### for model1(layer # is 3)"
      ]
    },
    {
      "cell_type": "code",
      "metadata": {
        "id": "9LKWvx51n1rc",
        "colab_type": "code",
        "colab": {}
      },
      "source": [
        "# 모델 선택\n",
        "model1 = select_model(1) # layer 3"
      ],
      "execution_count": 0,
      "outputs": []
    },
    {
      "cell_type": "code",
      "metadata": {
        "id": "3FEeSS83n5D0",
        "colab_type": "code",
        "colab": {
          "base_uri": "https://localhost:8080/",
          "height": 316
        },
        "outputId": "b87c80a6-a8d2-404d-ff3e-577c836e8c5f"
      },
      "source": [
        "# see the information about the model\n",
        "model1.summary()"
      ],
      "execution_count": 36,
      "outputs": [
        {
          "output_type": "stream",
          "text": [
            "Model: \"sequential_7\"\n",
            "_________________________________________________________________\n",
            "Layer (type)                 Output Shape              Param #   \n",
            "=================================================================\n",
            "conv2d_15 (Conv2D)           (None, 26, 26, 32)        320       \n",
            "_________________________________________________________________\n",
            "max_pooling2d_11 (MaxPooling (None, 13, 13, 32)        0         \n",
            "_________________________________________________________________\n",
            "flatten_7 (Flatten)          (None, 5408)              0         \n",
            "_________________________________________________________________\n",
            "dense_7 (Dense)              (None, 10)                54090     \n",
            "=================================================================\n",
            "Total params: 54,410\n",
            "Trainable params: 54,410\n",
            "Non-trainable params: 0\n",
            "_________________________________________________________________\n"
          ],
          "name": "stdout"
        }
      ]
    },
    {
      "cell_type": "markdown",
      "metadata": {
        "id": "HMfBfh6hrCEF",
        "colab_type": "text"
      },
      "source": [
        "### for model2(layer # is 5)"
      ]
    },
    {
      "cell_type": "code",
      "metadata": {
        "id": "vkW_f_NJrGgq",
        "colab_type": "code",
        "colab": {}
      },
      "source": [
        "model2 = select_model(2) # layer 5"
      ],
      "execution_count": 0,
      "outputs": []
    },
    {
      "cell_type": "code",
      "metadata": {
        "id": "6MN_TRR1rIc9",
        "colab_type": "code",
        "colab": {
          "base_uri": "https://localhost:8080/",
          "height": 391
        },
        "outputId": "02495af8-a4a5-4178-e1d9-3159481b082e"
      },
      "source": [
        "model2.summary()"
      ],
      "execution_count": 29,
      "outputs": [
        {
          "output_type": "stream",
          "text": [
            "Model: \"sequential_5\"\n",
            "_________________________________________________________________\n",
            "Layer (type)                 Output Shape              Param #   \n",
            "=================================================================\n",
            "conv2d_9 (Conv2D)            (None, 26, 26, 32)        320       \n",
            "_________________________________________________________________\n",
            "max_pooling2d_7 (MaxPooling2 (None, 13, 13, 32)        0         \n",
            "_________________________________________________________________\n",
            "conv2d_10 (Conv2D)           (None, 11, 11, 64)        18496     \n",
            "_________________________________________________________________\n",
            "max_pooling2d_8 (MaxPooling2 (None, 5, 5, 64)          0         \n",
            "_________________________________________________________________\n",
            "flatten_5 (Flatten)          (None, 1600)              0         \n",
            "_________________________________________________________________\n",
            "dense_5 (Dense)              (None, 10)                16010     \n",
            "=================================================================\n",
            "Total params: 34,826\n",
            "Trainable params: 34,826\n",
            "Non-trainable params: 0\n",
            "_________________________________________________________________\n"
          ],
          "name": "stdout"
        }
      ]
    },
    {
      "cell_type": "markdown",
      "metadata": {
        "id": "RhPbCHr5rH5Q",
        "colab_type": "text"
      },
      "source": [
        "### for model3(layer # is 7)"
      ]
    },
    {
      "cell_type": "code",
      "metadata": {
        "id": "k2GNqLudrRBl",
        "colab_type": "code",
        "colab": {}
      },
      "source": [
        "model3 = select_model(3) # layer 7"
      ],
      "execution_count": 0,
      "outputs": []
    },
    {
      "cell_type": "code",
      "metadata": {
        "id": "sSANzIH8rSL-",
        "colab_type": "code",
        "colab": {
          "base_uri": "https://localhost:8080/",
          "height": 465
        },
        "outputId": "373efd44-c8db-494b-c9cd-8c4aa754e466"
      },
      "source": [
        "model3.summary()"
      ],
      "execution_count": 32,
      "outputs": [
        {
          "output_type": "stream",
          "text": [
            "Model: \"sequential_6\"\n",
            "_________________________________________________________________\n",
            "Layer (type)                 Output Shape              Param #   \n",
            "=================================================================\n",
            "conv2d_11 (Conv2D)           (None, 26, 26, 32)        320       \n",
            "_________________________________________________________________\n",
            "max_pooling2d_9 (MaxPooling2 (None, 13, 13, 32)        0         \n",
            "_________________________________________________________________\n",
            "conv2d_12 (Conv2D)           (None, 11, 11, 64)        18496     \n",
            "_________________________________________________________________\n",
            "conv2d_13 (Conv2D)           (None, 9, 9, 64)          36928     \n",
            "_________________________________________________________________\n",
            "max_pooling2d_10 (MaxPooling (None, 4, 4, 64)          0         \n",
            "_________________________________________________________________\n",
            "conv2d_14 (Conv2D)           (None, 2, 2, 128)         73856     \n",
            "_________________________________________________________________\n",
            "flatten_6 (Flatten)          (None, 512)               0         \n",
            "_________________________________________________________________\n",
            "dense_6 (Dense)              (None, 10)                5130      \n",
            "=================================================================\n",
            "Total params: 134,730\n",
            "Trainable params: 134,730\n",
            "Non-trainable params: 0\n",
            "_________________________________________________________________\n"
          ],
          "name": "stdout"
        }
      ]
    },
    {
      "cell_type": "markdown",
      "metadata": {
        "id": "NfagxVaWnn_1",
        "colab_type": "text"
      },
      "source": [
        "## 5. Train the model\n",
        "- choose optimizers and use the built in function \"compile\""
      ]
    },
    {
      "cell_type": "markdown",
      "metadata": {
        "id": "sujrPxX3rvch",
        "colab_type": "text"
      },
      "source": [
        "### for model1"
      ]
    },
    {
      "cell_type": "code",
      "metadata": {
        "id": "xGJwes6BnMAS",
        "colab_type": "code",
        "colab": {}
      },
      "source": [
        "# hyperparameter\n",
        "model1.compile(\n",
        "    optimizer = 'adam',\n",
        "    loss = 'sparse_categorical_crossentropy',\n",
        "    metrics = ['accuracy']\n",
        ")"
      ],
      "execution_count": 0,
      "outputs": []
    },
    {
      "cell_type": "code",
      "metadata": {
        "id": "Mm4Ee-MqoAPC",
        "colab_type": "code",
        "colab": {
          "base_uri": "https://localhost:8080/",
          "height": 243
        },
        "outputId": "78eda9f0-c1f5-417d-8c3a-f305c7136ff6"
      },
      "source": [
        "model1.fit(train_images, train_labels,  epochs = 5) #학습"
      ],
      "execution_count": 41,
      "outputs": [
        {
          "output_type": "stream",
          "text": [
            "Epoch 1/5\n",
            "1875/1875 [==============================] - 24s 13ms/step - loss: 0.5640 - accuracy: 0.9413\n",
            "Epoch 2/5\n",
            "1875/1875 [==============================] - 24s 13ms/step - loss: 0.0815 - accuracy: 0.9753\n",
            "Epoch 3/5\n",
            "1875/1875 [==============================] - 24s 13ms/step - loss: 0.0654 - accuracy: 0.9804\n",
            "Epoch 4/5\n",
            "1875/1875 [==============================] - 24s 13ms/step - loss: 0.0606 - accuracy: 0.9816\n",
            "Epoch 5/5\n",
            "1875/1875 [==============================] - 24s 13ms/step - loss: 0.0518 - accuracy: 0.9842\n"
          ],
          "name": "stdout"
        },
        {
          "output_type": "execute_result",
          "data": {
            "text/plain": [
              "<tensorflow.python.keras.callbacks.History at 0x7f6813930080>"
            ]
          },
          "metadata": {
            "tags": []
          },
          "execution_count": 41
        }
      ]
    },
    {
      "cell_type": "markdown",
      "metadata": {
        "id": "OQc84mDYryzt",
        "colab_type": "text"
      },
      "source": [
        "### for model2"
      ]
    },
    {
      "cell_type": "code",
      "metadata": {
        "id": "nf53FGeKr0MR",
        "colab_type": "code",
        "colab": {}
      },
      "source": [
        "# hyperparameter\n",
        "model2.compile(\n",
        "    optimizer = 'adam',\n",
        "    loss = 'sparse_categorical_crossentropy',\n",
        "    metrics = ['accuracy']\n",
        ")"
      ],
      "execution_count": 0,
      "outputs": []
    },
    {
      "cell_type": "code",
      "metadata": {
        "id": "zqT10Wsbr3pB",
        "colab_type": "code",
        "colab": {
          "base_uri": "https://localhost:8080/",
          "height": 243
        },
        "outputId": "fbffd522-b670-4c79-d7a1-e0a92f2e8647"
      },
      "source": [
        "model2.fit(train_images, train_labels,  epochs = 5) #학습 "
      ],
      "execution_count": 43,
      "outputs": [
        {
          "output_type": "stream",
          "text": [
            "Epoch 1/5\n",
            "1875/1875 [==============================] - 45s 24ms/step - loss: 0.3085 - accuracy: 0.9469\n",
            "Epoch 2/5\n",
            "1875/1875 [==============================] - 45s 24ms/step - loss: 0.0686 - accuracy: 0.9797\n",
            "Epoch 3/5\n",
            "1875/1875 [==============================] - 45s 24ms/step - loss: 0.0571 - accuracy: 0.9828\n",
            "Epoch 4/5\n",
            "1875/1875 [==============================] - 45s 24ms/step - loss: 0.0479 - accuracy: 0.9854\n",
            "Epoch 5/5\n",
            "1875/1875 [==============================] - 45s 24ms/step - loss: 0.0409 - accuracy: 0.9875\n"
          ],
          "name": "stdout"
        },
        {
          "output_type": "execute_result",
          "data": {
            "text/plain": [
              "<tensorflow.python.keras.callbacks.History at 0x7f6813ca10f0>"
            ]
          },
          "metadata": {
            "tags": []
          },
          "execution_count": 43
        }
      ]
    },
    {
      "cell_type": "markdown",
      "metadata": {
        "id": "peyYc5x7r7kS",
        "colab_type": "text"
      },
      "source": [
        "### for model3"
      ]
    },
    {
      "cell_type": "code",
      "metadata": {
        "id": "kK6hVhuGr-Za",
        "colab_type": "code",
        "colab": {}
      },
      "source": [
        "# hyperparameter\n",
        "model3.compile(\n",
        "    optimizer = 'adam',\n",
        "    loss = 'sparse_categorical_crossentropy',\n",
        "    metrics = ['accuracy']\n",
        ")"
      ],
      "execution_count": 0,
      "outputs": []
    },
    {
      "cell_type": "code",
      "metadata": {
        "id": "L_2lYNrtsAGk",
        "colab_type": "code",
        "colab": {
          "base_uri": "https://localhost:8080/",
          "height": 243
        },
        "outputId": "c54bdcdb-d42e-48d8-d9b2-304b0001e7d0"
      },
      "source": [
        "model3.fit(train_images, train_labels,  epochs = 5) #학습"
      ],
      "execution_count": 45,
      "outputs": [
        {
          "output_type": "stream",
          "text": [
            "Epoch 1/5\n",
            "1875/1875 [==============================] - 74s 40ms/step - loss: 0.1741 - accuracy: 0.9583\n",
            "Epoch 2/5\n",
            "1875/1875 [==============================] - 73s 39ms/step - loss: 0.0542 - accuracy: 0.9832\n",
            "Epoch 3/5\n",
            "1875/1875 [==============================] - 74s 39ms/step - loss: 0.0441 - accuracy: 0.9866\n",
            "Epoch 4/5\n",
            "1875/1875 [==============================] - 74s 39ms/step - loss: 0.0382 - accuracy: 0.9880\n",
            "Epoch 5/5\n",
            "1875/1875 [==============================] - 74s 40ms/step - loss: 0.0326 - accuracy: 0.9900\n"
          ],
          "name": "stdout"
        },
        {
          "output_type": "execute_result",
          "data": {
            "text/plain": [
              "<tensorflow.python.keras.callbacks.History at 0x7f681420b4a8>"
            ]
          },
          "metadata": {
            "tags": []
          },
          "execution_count": 45
        }
      ]
    },
    {
      "cell_type": "markdown",
      "metadata": {
        "id": "hN3c4wDDoFjr",
        "colab_type": "text"
      },
      "source": [
        "## 6. Test the model for the test data"
      ]
    },
    {
      "cell_type": "markdown",
      "metadata": {
        "id": "XabnE_NYs09t",
        "colab_type": "text"
      },
      "source": [
        "### for model1"
      ]
    },
    {
      "cell_type": "code",
      "metadata": {
        "id": "ZlYbFg9NoBvL",
        "colab_type": "code",
        "colab": {
          "base_uri": "https://localhost:8080/",
          "height": 92
        },
        "outputId": "698eae29-758a-4339-9052-7d0d05bd71a9"
      },
      "source": [
        "test_loss1, accuracy1 = model1.evaluate(test_images, test_labels, verbose = 2)\n",
        "print('\\nTest loss : ', test_loss1)\n",
        "print('Test accuracy :', accuracy1)"
      ],
      "execution_count": 46,
      "outputs": [
        {
          "output_type": "stream",
          "text": [
            "313/313 - 2s - loss: 0.1066 - accuracy: 0.9771\n",
            "\n",
            "Test loss :  0.1065874844789505\n",
            "Test accuracy : 0.9771000146865845\n"
          ],
          "name": "stdout"
        }
      ]
    },
    {
      "cell_type": "code",
      "metadata": {
        "id": "Dp0svE6gonXQ",
        "colab_type": "code",
        "colab": {}
      },
      "source": [
        "# change test image's type to float, \n",
        "test_images = tf.cast(test_images, tf.float32)\n",
        "#prediction\n",
        "pred1 = model1.predict(test_images)\n",
        "Number = [0,1,2,3,4,5,6,7,8,9]"
      ],
      "execution_count": 0,
      "outputs": []
    },
    {
      "cell_type": "code",
      "metadata": {
        "id": "JGg6ldZ0ov7L",
        "colab_type": "code",
        "colab": {
          "base_uri": "https://localhost:8080/",
          "height": 55
        },
        "outputId": "5ae8a868-b4f7-4f16-fd87-067743a0f96d"
      },
      "source": [
        "print('Prediction : ', pred.shape)\n",
        "print('Test labels : ', test_labels.shape)"
      ],
      "execution_count": 59,
      "outputs": [
        {
          "output_type": "stream",
          "text": [
            "Prediction :  (10000, 10)\n",
            "Test labels :  (10000,)\n"
          ],
          "name": "stdout"
        }
      ]
    },
    {
      "cell_type": "markdown",
      "metadata": {
        "id": "-qmy4cD3s-bu",
        "colab_type": "text"
      },
      "source": [
        "### for model2"
      ]
    },
    {
      "cell_type": "code",
      "metadata": {
        "id": "7xu04vFSs91C",
        "colab_type": "code",
        "colab": {
          "base_uri": "https://localhost:8080/",
          "height": 92
        },
        "outputId": "92db3b0d-a533-4f98-c9bd-2032587ffd04"
      },
      "source": [
        "test_loss2, accuracy2 = model2.evaluate(test_images, test_labels, verbose = 2) # test\n",
        "print('\\nTest loss : ', test_loss2)\n",
        "print('Test accuracy :', accuracy2)"
      ],
      "execution_count": 49,
      "outputs": [
        {
          "output_type": "stream",
          "text": [
            "313/313 - 2s - loss: 0.0481 - accuracy: 0.9863\n",
            "\n",
            "Test loss :  0.04806443676352501\n",
            "Test accuracy : 0.986299991607666\n"
          ],
          "name": "stdout"
        }
      ]
    },
    {
      "cell_type": "code",
      "metadata": {
        "id": "MteOR2jnxbhe",
        "colab_type": "code",
        "colab": {}
      },
      "source": [
        "test_images = tf.cast(test_images, tf.float32)\n",
        "pred2 = model2.predict(test_images) # prediction\n",
        "Number = [0,1,2,3,4,5,6,7,8,9]"
      ],
      "execution_count": 0,
      "outputs": []
    },
    {
      "cell_type": "markdown",
      "metadata": {
        "id": "314AKp9ktDXg",
        "colab_type": "text"
      },
      "source": [
        "### for model3"
      ]
    },
    {
      "cell_type": "code",
      "metadata": {
        "id": "oRXCG-MGtEsw",
        "colab_type": "code",
        "colab": {
          "base_uri": "https://localhost:8080/",
          "height": 92
        },
        "outputId": "429bf138-fe39-42ac-acbc-340155a38b29"
      },
      "source": [
        "test_loss3, accuracy3 = model3.evaluate(test_images, test_labels, verbose = 2) # test\n",
        "print('\\nTest loss : ', test_loss3)\n",
        "print('Test accuracy :', accuracy3)"
      ],
      "execution_count": 50,
      "outputs": [
        {
          "output_type": "stream",
          "text": [
            "313/313 - 3s - loss: 0.0438 - accuracy: 0.9881\n",
            "\n",
            "Test loss :  0.04376590624451637\n",
            "Test accuracy : 0.988099992275238\n"
          ],
          "name": "stdout"
        }
      ]
    },
    {
      "cell_type": "code",
      "metadata": {
        "id": "25df2oUBxl_p",
        "colab_type": "code",
        "colab": {}
      },
      "source": [
        "test_images = tf.cast(test_images, tf.float32)\n",
        "pred3 = model.predict(test_images) #prediction\n",
        "Number = [0,1,2,3,4,5,6,7,8,9]"
      ],
      "execution_count": 0,
      "outputs": []
    },
    {
      "cell_type": "markdown",
      "metadata": {
        "id": "86UMZ9XiqDLf",
        "colab_type": "text"
      },
      "source": [
        "## 7. Plotting success/failure images"
      ]
    },
    {
      "cell_type": "markdown",
      "metadata": {
        "id": "pJQ97enFythg",
        "colab_type": "text"
      },
      "source": [
        "## Plot success images"
      ]
    },
    {
      "cell_type": "code",
      "metadata": {
        "id": "wCUTFvQPoxuR",
        "colab_type": "code",
        "colab": {}
      },
      "source": [
        "# plot images function def \n",
        "def plot_image(i, predictions_array, true_label, img):\n",
        "  predictions_array, true_label, img = predictions_array[i], true_label[i], img[i]\n",
        "  plt.grid(False)\n",
        "  plt.xticks([])\n",
        "  plt.yticks([])\n",
        "\n",
        "  plt.imshow(img, cmap=plt.cm.binary)\n",
        "\n",
        "  predicted_label = np.argmax(predictions_array)\n",
        "  if predicted_label == true_label:\n",
        "    color = 'blue'\n",
        "  else:\n",
        "    color = 'red'\n",
        "\n",
        "  plt.xlabel(\"{} {:2.0f}% ({})\".format(Number[predicted_label],\n",
        "                                100*np.max(predictions_array),\n",
        "                                Number[true_label]),\n",
        "                                color=color)"
      ],
      "execution_count": 0,
      "outputs": []
    },
    {
      "cell_type": "code",
      "metadata": {
        "id": "YfwEm-4ho5in",
        "colab_type": "code",
        "colab": {}
      },
      "source": [
        "# plot the probability with value function def \n",
        "def plot_value_array(i, predictions_array, true_label):\n",
        "  predictions_array, true_label = predictions_array[i], true_label[i]\n",
        "  plt.grid(False)\n",
        "  plt.xticks([])\n",
        "  plt.yticks([])\n",
        "  thisplot = plt.bar(range(10), predictions_array, color=\"#777777\")\n",
        "  plt.ylim([0, 1])\n",
        "  predicted_label = np.argmax(predictions_array)\n",
        "  plt.xticks(Number)\n",
        "\n",
        "  thisplot[predicted_label].set_color('red')\n",
        "  thisplot[true_label].set_color('blue')"
      ],
      "execution_count": 0,
      "outputs": []
    },
    {
      "cell_type": "code",
      "metadata": {
        "id": "FTmuvbv5pFSy",
        "colab_type": "code",
        "colab": {}
      },
      "source": [
        "(train_images, train_labels), (test_images, test_labels) = mnist.load_data()"
      ],
      "execution_count": 0,
      "outputs": []
    },
    {
      "cell_type": "code",
      "metadata": {
        "id": "36_k5ULRpEPJ",
        "colab_type": "code",
        "colab": {
          "base_uri": "https://localhost:8080/",
          "height": 211
        },
        "outputId": "df04d28c-44fd-4fd7-8f87-8803b6efe9d6"
      },
      "source": [
        "# check one image\n",
        "i = 1\n",
        "plt.figure(figsize=(6,3))\n",
        "plt.subplot(1,2,1)\n",
        "plot_image(i, pred, test_labels, test_images)\n",
        "plt.subplot(1,2,2)\n",
        "plot_value_array(i, pred,  test_labels)\n",
        "plt.show()"
      ],
      "execution_count": 67,
      "outputs": [
        {
          "output_type": "display_data",
          "data": {
            "image/png": "[encoded data removed]",
            "text/plain": [
              "<Figure size 432x216 with 2 Axes>"
            ]
          },
          "metadata": {
            "tags": [],
            "needs_background": "light"
          }
        }
      ]
    },
    {
      "cell_type": "markdown",
      "metadata": {
        "id": "5wMYLjyyyULu",
        "colab_type": "text"
      },
      "source": [
        "### for model1"
      ]
    },
    {
      "cell_type": "code",
      "metadata": {
        "id": "ee8a1rvJpRwV",
        "colab_type": "code",
        "colab": {
          "base_uri": "https://localhost:8080/",
          "height": 544
        },
        "outputId": "a201606f-2368-4a15-9502-b75b8ac18a1b"
      },
      "source": [
        "# plot the pred images with value\n",
        "num_rows = 5\n",
        "num_cols = 3\n",
        "num_images = num_rows*num_cols\n",
        "plt.figure(figsize=(2*2*num_cols, 2*num_rows))\n",
        "for i in range(num_images):\n",
        "  plt.subplot(num_rows, 2*num_cols, 2*i+1)\n",
        "  plot_image(i, pred1, test_labels, test_images)\n",
        "  plt.subplot(num_rows, 2*num_cols, 2*i+2)\n",
        "  plot_value_array(i, pred1, test_labels)\n",
        "plt.show()"
      ],
      "execution_count": 71,
      "outputs": [
        {
          "output_type": "display_data",
          "data": {
            "image/png": "[encoded data removed]",
            "text/plain": [
              "<Figure size 864x720 with 30 Axes>"
            ]
          },
          "metadata": {
            "tags": [],
            "needs_background": "light"
          }
        }
      ]
    },
    {
      "cell_type": "markdown",
      "metadata": {
        "id": "746crCVsyccN",
        "colab_type": "text"
      },
      "source": [
        "for model2"
      ]
    },
    {
      "cell_type": "code",
      "metadata": {
        "id": "RLsN1H1CygU1",
        "colab_type": "code",
        "colab": {
          "base_uri": "https://localhost:8080/",
          "height": 544
        },
        "outputId": "19a6f4bf-3052-4b72-be7b-d02be168b6cf"
      },
      "source": [
        "plt.figure(figsize=(2*2*num_cols, 2*num_rows))\n",
        "for i in range(num_images):\n",
        "  plt.subplot(num_rows, 2*num_cols, 2*i+1)\n",
        "  plot_image(i, pred2, test_labels, test_images)\n",
        "  plt.subplot(num_rows, 2*num_cols, 2*i+2)\n",
        "  plot_value_array(i, pred2, test_labels)\n",
        "plt.show()"
      ],
      "execution_count": 75,
      "outputs": [
        {
          "output_type": "display_data",
          "data": {
            "image/png": "[encoded data removed]",
            "text/plain": [
              "<Figure size 864x720 with 30 Axes>"
            ]
          },
          "metadata": {
            "tags": [],
            "needs_background": "light"
          }
        }
      ]
    },
    {
      "cell_type": "markdown",
      "metadata": {
        "id": "HswCVjeSynwK",
        "colab_type": "text"
      },
      "source": [
        "### for model3"
      ]
    },
    {
      "cell_type": "code",
      "metadata": {
        "id": "6GEIUEf2ypXB",
        "colab_type": "code",
        "colab": {
          "base_uri": "https://localhost:8080/",
          "height": 544
        },
        "outputId": "da0037e0-e5c1-4e9b-a1e6-0e82b263dbbe"
      },
      "source": [
        "plt.figure(figsize=(2*2*num_cols, 2*num_rows))\n",
        "for i in range(num_images):\n",
        "  plt.subplot(num_rows, 2*num_cols, 2*i+1)\n",
        "  plot_image(i, pred3, test_labels, test_images)\n",
        "  plt.subplot(num_rows, 2*num_cols, 2*i+2)\n",
        "  plot_value_array(i, pred3, test_labels)\n",
        "plt.show()"
      ],
      "execution_count": 76,
      "outputs": [
        {
          "output_type": "display_data",
          "data": {
            "image/png": "[encoded data removed]",
            "text/plain": [
              "<Figure size 864x720 with 30 Axes>"
            ]
          },
          "metadata": {
            "tags": [],
            "needs_background": "light"
          }
        }
      ]
    },
    {
      "cell_type": "markdown",
      "metadata": {
        "id": "wLtjqQGvyyc8",
        "colab_type": "text"
      },
      "source": [
        "## Plot failure images"
      ]
    },
    {
      "cell_type": "code",
      "metadata": {
        "id": "wLf83LZ3paU4",
        "colab_type": "code",
        "colab": {}
      },
      "source": [
        "# plot the images and probability that model predicted wrong\n",
        "## 잘못 예측된 label에 대한 plotting\n",
        "def error_mnist(prediction_array, true_label):\n",
        "    error_index = []\n",
        "    \n",
        "    for i in range(true_label.shape[0]):\n",
        "        if np.argmax(prediction_array[i]) != true_label[i]:\n",
        "            error_index.append(i)\n",
        "    return error_index"
      ],
      "execution_count": 0,
      "outputs": []
    },
    {
      "cell_type": "code",
      "metadata": {
        "id": "U4skhhEJppfi",
        "colab_type": "code",
        "colab": {}
      },
      "source": [
        "## change num_cols, num_rows if you want to see more result.  \n",
        "def plot_error(index, prediction_array, true_label):\n",
        "    num_cols = 5\n",
        "    num_rows = 5\n",
        "    plt.figure(figsize=(2*2*num_cols, 2*num_rows))\n",
        "\n",
        "    assert len(index) < num_cols * num_rows\n",
        "    for i in range(len(index)):\n",
        "        plt.subplot(num_rows, 2*num_cols, 2*i+1)\n",
        "        idx = index[i]\n",
        "        plt.imshow(test_images[idx])\n",
        "        plt.subplot(num_rows, 2*num_cols, 2*i+2)\n",
        "        plt.bar(range(10), prediction_array[idx])\n",
        "        plt.xticks(Number)"
      ],
      "execution_count": 0,
      "outputs": []
    },
    {
      "cell_type": "markdown",
      "metadata": {
        "id": "tcK1rGTax4dS",
        "colab_type": "text"
      },
      "source": [
        "### for model1"
      ]
    },
    {
      "cell_type": "code",
      "metadata": {
        "id": "T1xNrQpHp6_F",
        "colab_type": "code",
        "colab": {
          "base_uri": "https://localhost:8080/",
          "height": 148
        },
        "outputId": "a1641342-6ac8-4683-f84e-b480ebaa416c"
      },
      "source": [
        "index = error_mnist(pred1, test_labels)\n",
        "index_slice = index[:10]\n",
        "#print(index[:10])\n",
        "plot_error(index_slice, pred1, test_labels)"
      ],
      "execution_count": 68,
      "outputs": [
        {
          "output_type": "display_data",
          "data": {
            "image/png": "[encoded data removed]",
            "text/plain": [
              "<Figure size 1440x720 with 20 Axes>"
            ]
          },
          "metadata": {
            "tags": [],
            "needs_background": "light"
          }
        }
      ]
    },
    {
      "cell_type": "markdown",
      "metadata": {
        "id": "-0qClqLvx6L-",
        "colab_type": "text"
      },
      "source": [
        "### for model2"
      ]
    },
    {
      "cell_type": "code",
      "metadata": {
        "id": "kMCh-JXBqK3x",
        "colab_type": "code",
        "colab": {
          "base_uri": "https://localhost:8080/",
          "height": 148
        },
        "outputId": "04588918-16ba-4f0d-dcb7-ff0f05801015"
      },
      "source": [
        "index = error_mnist(pred2, test_labels)\n",
        "index_slice = index[:10]\n",
        "#print(index[:10])\n",
        "plot_error(index_slice, pred2, test_labels)"
      ],
      "execution_count": 69,
      "outputs": [
        {
          "output_type": "display_data",
          "data": {
            "image/png": "[encoded data removed]",
            "text/plain": [
              "<Figure size 1440x720 with 20 Axes>"
            ]
          },
          "metadata": {
            "tags": [],
            "needs_background": "light"
          }
        }
      ]
    },
    {
      "cell_type": "markdown",
      "metadata": {
        "id": "6B437dVYx_WV",
        "colab_type": "text"
      },
      "source": [
        "### for model3"
      ]
    },
    {
      "cell_type": "code",
      "metadata": {
        "id": "92HftuJfyA5s",
        "colab_type": "code",
        "colab": {
          "base_uri": "https://localhost:8080/",
          "height": 148
        },
        "outputId": "067b109b-a28d-4f8a-a83b-39d71e015817"
      },
      "source": [
        "index = error_mnist(pred3, test_labels)\n",
        "index_slice = index[:10]\n",
        "#print(index[:10])\n",
        "plot_error(index_slice, pred3, test_labels)"
      ],
      "execution_count": 70,
      "outputs": [
        {
          "output_type": "display_data",
          "data": {
            "image/png": "[encoded data removed]",
            "text/plain": [
              "<Figure size 1440x720 with 20 Axes>"
            ]
          },
          "metadata": {
            "tags": [],
            "needs_background": "light"
          }
        }
      ]
    },
    {
      "cell_type": "code",
      "metadata": {
        "id": "6cZWThVwyFOs",
        "colab_type": "code",
        "colab": {}
      },
      "source": [
        ""
      ],
      "execution_count": 0,
      "outputs": []
    }
  ]
}